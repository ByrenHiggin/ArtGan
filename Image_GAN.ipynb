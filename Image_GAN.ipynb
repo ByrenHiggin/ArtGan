{
  "nbformat": 4,
  "nbformat_minor": 0,
  "metadata": {
    "colab": {
      "name": "Image GAN",
      "provenance": [],
      "collapsed_sections": []
    },
    "kernelspec": {
      "name": "python3",
      "display_name": "Python 3"
    },
    "accelerator": "GPU"
  },
  "cells": [
    {
      "cell_type": "code",
      "metadata": {
        "id": "lqTVt-DiwJi0",
        "colab_type": "code",
        "outputId": "2e409997-f043-4386-fab2-10e12c46f25a",
        "colab": {
          "base_uri": "https://localhost:8080/",
          "height": 51
        }
      },
      "source": [
        "import os\n",
        "import time\n",
        "import glob\n",
        "\n",
        "import matplotlib.pyplot as plt\n",
        "import numpy as np\n",
        "\n",
        "import PIL\n",
        "\n",
        "import tensorflow as tf\n",
        "tf.enable_eager_execution()\n",
        "from tensorflow.keras import layers\n",
        "from IPython import display\n",
        "\n",
        "\n",
        "print(tf.__version__)\n",
        "print(tf.executing_eagerly())\n",
        "\n",
        "Generatable_Size = [3840,2160,3]"
      ],
      "execution_count": 0,
      "outputs": [
        {
          "output_type": "stream",
          "text": [
            "1.14.0\n",
            "True\n"
          ],
          "name": "stdout"
        }
      ]
    },
    {
      "cell_type": "code",
      "metadata": {
        "id": "FyhRZKRHxN0Q",
        "colab_type": "code",
        "colab": {}
      },
      "source": [
        "(train_images,train_labels),( _, _) = tf.keras.datasets.mnist.load_data()"
      ],
      "execution_count": 0,
      "outputs": []
    },
    {
      "cell_type": "code",
      "metadata": {
        "id": "lY15keRSxo1-",
        "colab_type": "code",
        "outputId": "4ad2db1c-9131-407a-cf7b-9326ea236b82",
        "colab": {
          "base_uri": "https://localhost:8080/",
          "height": 1000
        }
      },
      "source": [
        "train_images = train_images.reshape(train_images.shape[0], 28,28,1).astype('float32')\n",
        "train_images = (train_images - 127.5)/127.5\n",
        "print(train_images)"
      ],
      "execution_count": 0,
      "outputs": [
        {
          "output_type": "stream",
          "text": [
            "[[[[-1.]\n",
            "   [-1.]\n",
            "   [-1.]\n",
            "   ...\n",
            "   [-1.]\n",
            "   [-1.]\n",
            "   [-1.]]\n",
            "\n",
            "  [[-1.]\n",
            "   [-1.]\n",
            "   [-1.]\n",
            "   ...\n",
            "   [-1.]\n",
            "   [-1.]\n",
            "   [-1.]]\n",
            "\n",
            "  [[-1.]\n",
            "   [-1.]\n",
            "   [-1.]\n",
            "   ...\n",
            "   [-1.]\n",
            "   [-1.]\n",
            "   [-1.]]\n",
            "\n",
            "  ...\n",
            "\n",
            "  [[-1.]\n",
            "   [-1.]\n",
            "   [-1.]\n",
            "   ...\n",
            "   [-1.]\n",
            "   [-1.]\n",
            "   [-1.]]\n",
            "\n",
            "  [[-1.]\n",
            "   [-1.]\n",
            "   [-1.]\n",
            "   ...\n",
            "   [-1.]\n",
            "   [-1.]\n",
            "   [-1.]]\n",
            "\n",
            "  [[-1.]\n",
            "   [-1.]\n",
            "   [-1.]\n",
            "   ...\n",
            "   [-1.]\n",
            "   [-1.]\n",
            "   [-1.]]]\n",
            "\n",
            "\n",
            " [[[-1.]\n",
            "   [-1.]\n",
            "   [-1.]\n",
            "   ...\n",
            "   [-1.]\n",
            "   [-1.]\n",
            "   [-1.]]\n",
            "\n",
            "  [[-1.]\n",
            "   [-1.]\n",
            "   [-1.]\n",
            "   ...\n",
            "   [-1.]\n",
            "   [-1.]\n",
            "   [-1.]]\n",
            "\n",
            "  [[-1.]\n",
            "   [-1.]\n",
            "   [-1.]\n",
            "   ...\n",
            "   [-1.]\n",
            "   [-1.]\n",
            "   [-1.]]\n",
            "\n",
            "  ...\n",
            "\n",
            "  [[-1.]\n",
            "   [-1.]\n",
            "   [-1.]\n",
            "   ...\n",
            "   [-1.]\n",
            "   [-1.]\n",
            "   [-1.]]\n",
            "\n",
            "  [[-1.]\n",
            "   [-1.]\n",
            "   [-1.]\n",
            "   ...\n",
            "   [-1.]\n",
            "   [-1.]\n",
            "   [-1.]]\n",
            "\n",
            "  [[-1.]\n",
            "   [-1.]\n",
            "   [-1.]\n",
            "   ...\n",
            "   [-1.]\n",
            "   [-1.]\n",
            "   [-1.]]]\n",
            "\n",
            "\n",
            " [[[-1.]\n",
            "   [-1.]\n",
            "   [-1.]\n",
            "   ...\n",
            "   [-1.]\n",
            "   [-1.]\n",
            "   [-1.]]\n",
            "\n",
            "  [[-1.]\n",
            "   [-1.]\n",
            "   [-1.]\n",
            "   ...\n",
            "   [-1.]\n",
            "   [-1.]\n",
            "   [-1.]]\n",
            "\n",
            "  [[-1.]\n",
            "   [-1.]\n",
            "   [-1.]\n",
            "   ...\n",
            "   [-1.]\n",
            "   [-1.]\n",
            "   [-1.]]\n",
            "\n",
            "  ...\n",
            "\n",
            "  [[-1.]\n",
            "   [-1.]\n",
            "   [-1.]\n",
            "   ...\n",
            "   [-1.]\n",
            "   [-1.]\n",
            "   [-1.]]\n",
            "\n",
            "  [[-1.]\n",
            "   [-1.]\n",
            "   [-1.]\n",
            "   ...\n",
            "   [-1.]\n",
            "   [-1.]\n",
            "   [-1.]]\n",
            "\n",
            "  [[-1.]\n",
            "   [-1.]\n",
            "   [-1.]\n",
            "   ...\n",
            "   [-1.]\n",
            "   [-1.]\n",
            "   [-1.]]]\n",
            "\n",
            "\n",
            " ...\n",
            "\n",
            "\n",
            " [[[-1.]\n",
            "   [-1.]\n",
            "   [-1.]\n",
            "   ...\n",
            "   [-1.]\n",
            "   [-1.]\n",
            "   [-1.]]\n",
            "\n",
            "  [[-1.]\n",
            "   [-1.]\n",
            "   [-1.]\n",
            "   ...\n",
            "   [-1.]\n",
            "   [-1.]\n",
            "   [-1.]]\n",
            "\n",
            "  [[-1.]\n",
            "   [-1.]\n",
            "   [-1.]\n",
            "   ...\n",
            "   [-1.]\n",
            "   [-1.]\n",
            "   [-1.]]\n",
            "\n",
            "  ...\n",
            "\n",
            "  [[-1.]\n",
            "   [-1.]\n",
            "   [-1.]\n",
            "   ...\n",
            "   [-1.]\n",
            "   [-1.]\n",
            "   [-1.]]\n",
            "\n",
            "  [[-1.]\n",
            "   [-1.]\n",
            "   [-1.]\n",
            "   ...\n",
            "   [-1.]\n",
            "   [-1.]\n",
            "   [-1.]]\n",
            "\n",
            "  [[-1.]\n",
            "   [-1.]\n",
            "   [-1.]\n",
            "   ...\n",
            "   [-1.]\n",
            "   [-1.]\n",
            "   [-1.]]]\n",
            "\n",
            "\n",
            " [[[-1.]\n",
            "   [-1.]\n",
            "   [-1.]\n",
            "   ...\n",
            "   [-1.]\n",
            "   [-1.]\n",
            "   [-1.]]\n",
            "\n",
            "  [[-1.]\n",
            "   [-1.]\n",
            "   [-1.]\n",
            "   ...\n",
            "   [-1.]\n",
            "   [-1.]\n",
            "   [-1.]]\n",
            "\n",
            "  [[-1.]\n",
            "   [-1.]\n",
            "   [-1.]\n",
            "   ...\n",
            "   [-1.]\n",
            "   [-1.]\n",
            "   [-1.]]\n",
            "\n",
            "  ...\n",
            "\n",
            "  [[-1.]\n",
            "   [-1.]\n",
            "   [-1.]\n",
            "   ...\n",
            "   [-1.]\n",
            "   [-1.]\n",
            "   [-1.]]\n",
            "\n",
            "  [[-1.]\n",
            "   [-1.]\n",
            "   [-1.]\n",
            "   ...\n",
            "   [-1.]\n",
            "   [-1.]\n",
            "   [-1.]]\n",
            "\n",
            "  [[-1.]\n",
            "   [-1.]\n",
            "   [-1.]\n",
            "   ...\n",
            "   [-1.]\n",
            "   [-1.]\n",
            "   [-1.]]]\n",
            "\n",
            "\n",
            " [[[-1.]\n",
            "   [-1.]\n",
            "   [-1.]\n",
            "   ...\n",
            "   [-1.]\n",
            "   [-1.]\n",
            "   [-1.]]\n",
            "\n",
            "  [[-1.]\n",
            "   [-1.]\n",
            "   [-1.]\n",
            "   ...\n",
            "   [-1.]\n",
            "   [-1.]\n",
            "   [-1.]]\n",
            "\n",
            "  [[-1.]\n",
            "   [-1.]\n",
            "   [-1.]\n",
            "   ...\n",
            "   [-1.]\n",
            "   [-1.]\n",
            "   [-1.]]\n",
            "\n",
            "  ...\n",
            "\n",
            "  [[-1.]\n",
            "   [-1.]\n",
            "   [-1.]\n",
            "   ...\n",
            "   [-1.]\n",
            "   [-1.]\n",
            "   [-1.]]\n",
            "\n",
            "  [[-1.]\n",
            "   [-1.]\n",
            "   [-1.]\n",
            "   ...\n",
            "   [-1.]\n",
            "   [-1.]\n",
            "   [-1.]]\n",
            "\n",
            "  [[-1.]\n",
            "   [-1.]\n",
            "   [-1.]\n",
            "   ...\n",
            "   [-1.]\n",
            "   [-1.]\n",
            "   [-1.]]]]\n"
          ],
          "name": "stdout"
        }
      ]
    },
    {
      "cell_type": "code",
      "metadata": {
        "id": "ROwQRfM8jSEq",
        "colab_type": "code",
        "colab": {}
      },
      "source": [
        "BUFFER_SIZE = 60000\n",
        "BATCH_SIZE = 256"
      ],
      "execution_count": 0,
      "outputs": []
    },
    {
      "cell_type": "code",
      "metadata": {
        "id": "Q58vz4I-jZvQ",
        "colab_type": "code",
        "colab": {}
      },
      "source": [
        "TRAIN_DATASET = tf.data.Dataset.from_tensor_slices(train_images).shuffle(BUFFER_SIZE).batch(BATCH_SIZE)"
      ],
      "execution_count": 0,
      "outputs": []
    },
    {
      "cell_type": "code",
      "metadata": {
        "id": "c5Y0S0MbkCzn",
        "colab_type": "code",
        "outputId": "017acfd4-c662-40d3-a691-cb57244a1037",
        "colab": {
          "base_uri": "https://localhost:8080/",
          "height": 286
        }
      },
      "source": [
        "def make_generator_model():\n",
        "  model = tf.keras.Sequential();\n",
        "  model.add(layers.Dense(7*7*256, use_bias=False, input_shape=(100,)))\n",
        "  model.add(layers.BatchNormalization())\n",
        "  model.add(layers.LeakyReLU())\n",
        "  model.add(layers.Reshape((7,7,256)))\n",
        "  model.add(layers.Conv2DTranspose(128,(5,5),strides=(1,1),padding='same',use_bias=False))\n",
        "  model.add(layers.BatchNormalization())\n",
        "  model.add(layers.LeakyReLU())\n",
        "  model.add(layers.Conv2DTranspose(64,(5,5),strides=(2,2),padding=\"same\",use_bias=False))\n",
        "  model.add(layers.BatchNormalization())\n",
        "  model.add(layers.LeakyReLU())\n",
        "  model.add(layers.Conv2DTranspose(1,(5,5),strides=(2,2),padding=\"same\",use_bias=False, activation=\"tanh\"))\n",
        "  return model\n",
        "\n",
        "sess = tf.Session()\n",
        "\n",
        "generator = make_generator_model()\n",
        "\n",
        "noise = tf.random.normal([1, 100], dtype=\"float32\")\n",
        "generated_image = generator(noise, training=False)\n",
        "\n",
        "plt.imshow(generated_image[0, :, :, 0], cmap='gray')\n"
      ],
      "execution_count": 0,
      "outputs": [
        {
          "output_type": "execute_result",
          "data": {
            "text/plain": [
              "<matplotlib.image.AxesImage at 0x7fa0fd6d0ba8>"
            ]
          },
          "metadata": {
            "tags": []
          },
          "execution_count": 6
        },
        {
          "output_type": "display_data",
          "data": {
            "image/png": "[encoded data removed]",
            "text/plain": [
              "<Figure size 432x288 with 1 Axes>"
            ]
          },
          "metadata": {
            "tags": []
          }
        }
      ]
    },
    {
      "cell_type": "code",
      "metadata": {
        "id": "-Tc6DfIBphpj",
        "colab_type": "code",
        "outputId": "e7e6cf5a-7226-48ad-95fb-ad5e5481adb6",
        "colab": {
          "base_uri": "https://localhost:8080/",
          "height": 34
        }
      },
      "source": [
        "def make_discriminator_model(): \n",
        "  model = tf.keras.Sequential()\n",
        "  model.add(layers.Conv2D(64,(5,5),strides=(2,2),padding=\"same\", input_shape=[28,28,1]))\n",
        "  model.add(layers.LeakyReLU())\n",
        "  model.add(layers.Dropout(0.3))\n",
        "  model.add(layers.Conv2D(128,(5,5),strides=(2,2),padding=\"same\"))\n",
        "  model.add(layers.LeakyReLU())\n",
        "  model.add(layers.Dropout(0.3))\n",
        "  model.add(layers.Flatten())\n",
        "  model.add(layers.Dense(1))\n",
        "  return model\n",
        "\n",
        "discriminator = make_discriminator_model()\n",
        "\n",
        "decision = discriminator(generated_image)\n",
        "print(decision)"
      ],
      "execution_count": 0,
      "outputs": [
        {
          "output_type": "stream",
          "text": [
            "tf.Tensor([[-0.00071006]], shape=(1, 1), dtype=float32)\n"
          ],
          "name": "stdout"
        }
      ]
    },
    {
      "cell_type": "code",
      "metadata": {
        "id": "1TifDQrmrAlc",
        "colab_type": "code",
        "colab": {}
      },
      "source": [
        "cross_entropy = tf.keras.losses.BinaryCrossentropy(from_logits=True)\n",
        "\n",
        "def Discriminator_loss(real_output,fake_output):\n",
        "  real_loss = cross_entropy(tf.ones_like(real_output), real_output)\n",
        "  fake_loss = cross_entropy(tf.zeros_like(fake_output),fake_output)\n",
        "  total_loss = real_loss + fake_loss\n",
        "  return total_loss\n",
        "\n",
        "def Generator_Loss(fake_output):\n",
        "  return cross_entropy(tf.zeros_like(fake_output),fake_output)\n",
        "\n",
        "Discriminator_Optimizer = tf.keras.optimizers.Adam()\n",
        "Generator_Optimizer = tf.keras.optimizers.Adam()\n",
        "\n",
        "\n",
        "\n"
      ],
      "execution_count": 0,
      "outputs": []
    },
    {
      "cell_type": "code",
      "metadata": {
        "id": "WeMA4zhZsOyA",
        "colab_type": "code",
        "colab": {}
      },
      "source": [
        "checkpoint_dir = './training_checkpoints'\n",
        "checkpoint_prefix = os.path.join(checkpoint_dir, \"ckpt\")\n",
        "checkpoint = tf.train.Checkpoint(generator_optimizer=Generator_Optimizer,\n",
        "                                 discriminator_optimizer=Discriminator_Optimizer,\n",
        "                                 generator=generator,\n",
        "                                 discriminator=discriminator)"
      ],
      "execution_count": 0,
      "outputs": []
    },
    {
      "cell_type": "code",
      "metadata": {
        "id": "LdcurUvQsPrm",
        "colab_type": "code",
        "outputId": "3ed75a1f-9cd0-4e47-d9d1-9a21102012fc",
        "colab": {
          "base_uri": "https://localhost:8080/",
          "height": 122
        }
      },
      "source": [
        "EPOCHS = 50\n",
        "noise_dim = 100\n",
        "num_examples_to_generate = 16\n",
        "\n",
        "seed = tf.random.normal([num_examples_to_generate, noise_dim])\n",
        "plt.imshow(seed)"
      ],
      "execution_count": 0,
      "outputs": [
        {
          "output_type": "execute_result",
          "data": {
            "text/plain": [
              "<matplotlib.image.AxesImage at 0x7fa0fad39588>"
            ]
          },
          "metadata": {
            "tags": []
          },
          "execution_count": 10
        },
        {
          "output_type": "display_data",
          "data": {
            "image/png": "[encoded data removed]",
            "text/plain": [
              "<Figure size 432x288 with 1 Axes>"
            ]
          },
          "metadata": {
            "tags": []
          }
        }
      ]
    },
    {
      "cell_type": "code",
      "metadata": {
        "id": "BuQ9EUEKswlZ",
        "colab_type": "code",
        "colab": {}
      },
      "source": [
        "@tf.function\n",
        "def train_step(images):\n",
        "  noise = tf.random.normal([BATCH_SIZE,noise_dim])\n",
        "  with tf.GradientTape() as gen_tape, tf.GradientTape() as disc_tape:\n",
        "    generated_image = generator(noise, training=True)\n",
        "    real_output = discriminator(images, training=True)\n",
        "    fake_output = discriminator(generated_image,training=True)\n",
        "\n",
        "    gen_loss = Generator_Loss(fake_output)\n",
        "    disc_loss = Discriminator_loss(real_output,fake_output)\n",
        "  Gradients_Of_Generator = gen_tape.gradient(gen_loss, generator.trainable_variables)\n",
        "  Gradients_Of_Discrimin = disc_tape.gradient(disc_loss, discriminator.trainable_variables)\n",
        "\n",
        "  Generator_Optimizer.apply_gradients(zip(Gradients_Of_Generator, generator.trainable_variables))\n",
        "  Discriminator_Optimizer.apply_gradients(zip(Gradients_Of_Discrimin,discriminator.trainable_variables))"
      ],
      "execution_count": 0,
      "outputs": []
    },
    {
      "cell_type": "code",
      "metadata": {
        "id": "idrCueQjuntt",
        "colab_type": "code",
        "colab": {}
      },
      "source": [
        "def train(dataset, epochs):\n",
        "  for epoch in range(epochs):\n",
        "    print('Beginning EPOCH ', epoch)\n",
        "    start = time.time()\n",
        "\n",
        "    for image_batch in dataset:\n",
        "      train_step(image_batch)\n",
        "\n",
        "    # Produce images for the GIF as we go\n",
        "    display.clear_output(wait=True)\n",
        "    generate_and_save_images(generator,\n",
        "                             epoch + 1,\n",
        "                             seed)\n",
        "\n",
        "    # Save the model every 15 epochs\n",
        "    if (epoch + 1) % 15 == 0:\n",
        "      checkpoint.save(file_prefix = checkpoint_prefix)\n",
        "\n",
        "    print ('Time for epoch {} is {} sec'.format(epoch + 1, time.time()-start))\n",
        "\n",
        "  # Generate after the final epoch\n",
        "  display.clear_output(wait=True)\n",
        "  generate_and_save_images(generator,\n",
        "                           epochs,\n",
        "                           seed)"
      ],
      "execution_count": 0,
      "outputs": []
    },
    {
      "cell_type": "code",
      "metadata": {
        "id": "iifh4rJFuyI2",
        "colab_type": "code",
        "colab": {}
      },
      "source": [
        "def generate_and_save_images(model, epoch, test_input):\n",
        "  # Notice `training` is set to False.\n",
        "  # This is so all layers run in inference mode (batchnorm).\n",
        "  predictions = model(test_input, training=False)\n",
        "\n",
        "  fig = plt.figure(figsize=(4,4))\n",
        "\n",
        "  for i in range(predictions.shape[0]):\n",
        "      plt.subplot(4, 4, i+1)\n",
        "      plt.imshow(predictions[i, :, :, 0] * 127.5 + 127.5, cmap='gray')\n",
        "      plt.axis('off')\n",
        "\n",
        "  plt.savefig('image_at_epoch_{:04d}.png'.format(epoch))\n",
        "  plt.show()"
      ],
      "execution_count": 0,
      "outputs": []
    },
    {
      "cell_type": "code",
      "metadata": {
        "id": "UNLQgrz7u2PX",
        "colab_type": "code",
        "outputId": "33800b19-3190-4c59-f458-0bdb3a43e430",
        "colab": {
          "base_uri": "https://localhost:8080/",
          "height": 302
        }
      },
      "source": [
        "%%time\n",
        "train(TRAIN_DATASET, EPOCHS)"
      ],
      "execution_count": 0,
      "outputs": [
        {
          "output_type": "display_data",
          "data": {
            "image/png": "[encoded data removed]",
            "text/plain": [
              "<Figure size 288x288 with 16 Axes>"
            ]
          },
          "metadata": {
            "tags": []
          }
        },
        {
          "output_type": "stream",
          "text": [
            "CPU times: user 4min 46s, sys: 1min 14s, total: 6min 1s\n",
            "Wall time: 20min 36s\n"
          ],
          "name": "stdout"
        }
      ]
    }
  ]
}